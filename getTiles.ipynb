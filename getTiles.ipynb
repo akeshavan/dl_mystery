{
 "cells": [
  {
   "cell_type": "code",
   "execution_count": 6,
   "metadata": {},
   "outputs": [
    {
     "name": "stdout",
     "output_type": "stream",
     "text": [
      "Populating the interactive namespace from numpy and matplotlib\n"
     ]
    }
   ],
   "source": [
    "%pylab inline\n",
    "import pandas as pd\n",
    "import requests\n",
    "import os\n",
    "from os.path import join\n",
    "import base64\n",
    "from IPython.display import Image\n",
    "\n",
    "\n",
    "subs = pd.DataFrame() #pd.read_csv(\"../subjects.txt\", header=None)\n",
    "#print(\"Number of subjects\", len(subs))"
   ]
  },
  {
   "cell_type": "code",
   "execution_count": 7,
   "metadata": {
    "collapsed": true
   },
   "outputs": [],
   "source": [
    "def dict2arr(image_data, mask_data):\n",
    "    mask_arr = np.zeros((image_data.shape[0], image_data.shape[1]))\n",
    "    for ikey, vald in mask_data.items():\n",
    "        for jkey, val in vald.items():\n",
    "            mask_arr[int(jkey), int(ikey)] = val\n",
    "    return mask_arr"
   ]
  },
  {
   "cell_type": "code",
   "execution_count": 8,
   "metadata": {
    "collapsed": true
   },
   "outputs": [],
   "source": [
    "def write_image(fname, img_data):\n",
    "    imgdata = base64.b64decode(img_data)\n",
    "    with open(fname, 'wb') as f:\n",
    "        f.write(imgdata)\n",
    "    return fname\n",
    "\n",
    "from PIL import Image as Im\n",
    "\n",
    "def save_arr(fname, A):\n",
    "    im = Im.fromarray(A.astype(np.uint8))\n",
    "    im.save(fname)\n",
    "    return fname"
   ]
  },
  {
   "cell_type": "code",
   "execution_count": 10,
   "metadata": {},
   "outputs": [],
   "source": [
    "url_image = \"https://api.medulina.com/api/v1/image/{}\"\n",
    "url_mask = \"https://api.medulina.com/api/v1/mask/{}\"\n",
    "subs[\"n_tiles\"] = None\n",
    "basedir = os.path.abspath(\"./ds_cheng/tiles\")\n",
    "\n",
    "def get_query_string(subject,task):\n",
    "    qs = '?where={\"subject\":\"%s\", \"task\": \"%s\"}' % (subject, task)\n",
    "    return url_image.format(qs)\n",
    "\n",
    "def get_aggmask_query_string(image_id):\n",
    "    url = 'https://api.medulina.com/api/v1/maskagg/?aggregate={\"$image_search\":\"' + image_id + '\"}'\n",
    "    return url\n",
    "\n",
    "def get_mask_query_string(image_id):\n",
    "    qs = '?where={\"image_id\": \"%s\", \"mode\": \"truth\"}' % image_id\n",
    "    return url_mask.format(qs)\n",
    "\n",
    "def get_all_tries():\n",
    "    qs = '?where={\"subject\":\"%s\", \"task\": \"%s\"}' % (subject, task)"
   ]
  },
  {
   "cell_type": "code",
   "execution_count": 11,
   "metadata": {
    "collapsed": true
   },
   "outputs": [],
   "source": [
    "def get_subject_list():\n",
    "    return [\n",
    "    \"49.48.48.51.54.48\",\n",
    "    \"49.48.48.53.55.50\",\n",
    "    \"49.48.48.54.51.57\",\n",
    "    \"49.48.48.57.50.48\",\n",
    "    \"49.48.49.48.49.54\",\n",
    "    \"49.48.49.48.56.50\",\n",
    "    \"49.48.49.49.50.55\",\n",
    "    \"49.48.49.55.57.55\",\n",
    "    \"49.48.49.56.48.49\",\n",
    "    \"49.48.50.52.50.48\",\n",
    "    \"49.48.50.52.52.54\",\n",
    "    \"49.48.50.54.55.53\",\n",
    "    \"49.48.50.55.49.52\",\n",
    "    \"49.48.50.56.49.56\",\n",
    "    \"49.48.50.57.50.57\",\n",
    "    \"49.48.50.57.51.53\",\n",
    "    \"49.48.50.57.54.48\",\n",
    "    \"49.48.50.57.56.53\",\n",
    "    \"49.48.51.54.55.51\",\n",
    "    \"49.48.51.57.50.53\",\n",
    "    \"49.48.52.49.54.55\",\n",
    "    \"49.48.52.50.56.49\",\n",
    "    \"49.48.52.54.57.53\",\n",
    "    \"49.48.53.51.55.52\",\n",
    "    \"49.48.53.53.53.53\",\n",
    "    \"49.48.53.57.51.55\",\n",
    "    \"49.48.54.50.56.52\",\n",
    "    \"49.48.54.52.52.50\",\n",
    "    \"49.48.54.53.51.52\",\n",
    "    \"49.48.54.53.57.50\",\n",
    "    \"49.48.54.54.54.53\",\n",
    "    \"49.48.54.55.50.48\",\n",
    "    \"49.48.54.57.49.52\",\n",
    "    \"49.48.55.49.57.48\",\n",
    "    \"49.48.55.50.52.56\",\n",
    "    \"49.48.55.52.57.52\",\n",
    "    \"49.48.55.57.52.54\",\n",
    "    \"49.48.56.53.49.52\",\n",
    "    \"49.48.56.53.53.48\",\n",
    "    \"49.48.56.53.57.48\",\n",
    "    \"49.48.56.57.52.53\",\n",
    "    \"49.48.57.51.53.48\",\n",
    "    \"49.48.57.52.49.49\",\n",
    "    \"49.48.57.57.54.56\",\n",
    "    \"49.49.48.49.49.54\",\n",
    "    \"49.49.48.56.48.56\",\n",
    "    \"49.49.49.48.55.55\",\n",
    "    \"49.49.49.51.54.54\",\n",
    "    \"49.49.49.53.51.50\",\n",
    "    \"49.49.49.54.57.54\",\n",
    "    \"49.49.49.55.49.48\",\n",
    "    \"49.49.50.48.48.50\",\n",
    "    \"49.49.50.48.54.50\",\n",
    "    \"49.49.50.50.53.50\",\n",
    "    \"49.49.50.53.53.50\",\n",
    "    \"49.49.50.54.52.56\",\n",
    "    \"49.49.50.54.53.48\",\n",
    "    \"49.49.51.48.57.56\",\n",
    "    \"49.49.51.52.51.53\",\n",
    "    \"49.49.51.53.53.52\",\n",
    "    \"49.49.51.54.49.52\",\n",
    "    \"49.49.51.56.48.53\",\n",
    "    \"49.49.51.57.55.49\",\n",
    "    \"49.49.52.48.49.56\",\n",
    "    \"49.49.52.51.53.57\",\n",
    "    \"49.49.52.52.49.55\",\n",
    "    \"53.51.54.54.57\",\n",
    "    \"56.56.53.49.48\",\n",
    "    \"57.53.57.54.57\",\n",
    "    \"57.55.51.55.52\",\n",
    "    \"57.55.54.48.55\",\n",
    "    \"57.55.55.51.55\",\n",
    "    \"57.55.55.57.51\",\n",
    "    \"57.55.56.55.53\",\n",
    "    \"57.55.57.52.51\",\n",
    "    \"57.56.50.52.49\",\n",
    "    \"57.57.48.49.55\",\n",
    "    \"57.57.48.56.57\",\n",
    "    \"57.57.49.54.50\",\n",
    "    \"57.57.50.56.56\",\n",
    "    \"57.57.51.48.56\",\n",
    "    \"57.57.56.49.53\"\n",
    "]\n"
   ]
  },
  {
   "cell_type": "code",
   "execution_count": 9,
   "metadata": {},
   "outputs": [
    {
     "name": "stdout",
     "output_type": "stream",
     "text": [
      "completed sub000\n",
      "completed sub001\n",
      "completed sub002\n",
      "completed sub003\n",
      "completed sub005\n",
      "completed sub006\n",
      "completed sub007\n",
      "completed sub008\n",
      "completed sub010\n",
      "completed sub011\n",
      "completed sub013\n",
      "completed sub014\n",
      "completed sub015\n",
      "completed sub017\n",
      "completed sub020\n",
      "completed sub021\n",
      "completed sub022\n",
      "completed sub023\n",
      "completed sub025\n",
      "completed sub026\n",
      "completed sub029\n",
      "completed sub030\n",
      "completed sub031\n"
     ]
    }
   ],
   "source": [
    "task = \"cheng_et_al_001\"\n",
    "subject_list = get_subject_list(task)\n",
    "for i, s in enumerate(subject_list):\n",
    "    r = requests.get(get_query_string(s, task))\n",
    "    tile_data = r.json()\n",
    "    subs.loc[i, \"n_tiles\"] = len(tile_data[\"_items\"])\n",
    "    outdir = join(basedir, s)\n",
    "    if not os.path.exists(outdir):\n",
    "        os.makedirs(outdir)\n",
    "        \n",
    "    for item in tile_data[\"_items\"]:\n",
    "        fname = join(outdir, \"base%03d.jpg\" % (int(item[\"slice\"])))\n",
    "        write_image(fname, item[\"pic\"])\n",
    "        \n",
    "        image_data = imread(fname)\n",
    "        \n",
    "        image_id = item[\"_id\"]\n",
    "        aggurl = get_aggmask_query_string(image_id)\n",
    "        m = requests.get(aggurl)\n",
    "        agg_dict = m.json()[\"mask_sum\"]\n",
    "        agg_arr = dict2arr(image_data, agg_dict)\n",
    "        agg_fname = fname.replace(\"base\", \"agg\").replace(\"jpg\", \"png\")\n",
    "        save_arr(agg_fname, agg_arr)\n",
    "        \n",
    "        \n",
    "        t = requests.get(get_mask_query_string(image_id))\n",
    "        truth_dict = t.json()[\"_items\"][0][\"pic\"]\n",
    "        truth_arr = dict2arr(image_data, truth_dict)\n",
    "        truth_fname = fname.replace(\"base\", \"truth\").replace(\"jpg\", \"png\")\n",
    "        save_arr(truth_fname, truth_arr)\n",
    "                \n",
    "    print(\"completed\", s)\n",
    "        \n",
    "    "
   ]
  },
  {
   "cell_type": "code",
   "execution_count": 16,
   "metadata": {
    "collapsed": true
   },
   "outputs": [],
   "source": [
    "base = imread(\"./tiles/sub030/base018.jpg\")\n",
    "agg = imread(\"./tiles/sub030/agg018.png\").astype(np.float)\n",
    "truth = imread(\"./tiles/sub030/truth018.png\")\n"
   ]
  },
  {
   "cell_type": "code",
   "execution_count": 79,
   "metadata": {},
   "outputs": [
    {
     "data": {
      "image/jpeg": "[encoded data removed]",
      "text/plain": [
       "<IPython.core.display.Image object>"
      ]
     },
     "execution_count": 79,
     "metadata": {},
     "output_type": "execute_result"
    }
   ],
   "source": [
    "Image(\"/Users/akeshavan/Dropbox/software/pymed/pymed/projects/meningioma/tiles/sub000/base04.jpg\")"
   ]
  },
  {
   "cell_type": "code",
   "execution_count": 10,
   "metadata": {},
   "outputs": [
    {
     "name": "stdout",
     "output_type": "stream",
     "text": [
      "events.out.tfevents.1506532372.shuksan  events.out.tfevents.1506535343.shuksan\r\n",
      "events.out.tfevents.1506534941.shuksan  events.out.tfevents.1506535871.shuksan\r\n"
     ]
    }
   ],
   "source": [
    "ls logs/events.out.tfevents.1506534941.shuksan"
   ]
  },
  {
   "cell_type": "code",
   "execution_count": null,
   "metadata": {
    "collapsed": true
   },
   "outputs": [],
   "source": []
  }
 ],
 "metadata": {
  "kernelspec": {
   "display_name": "Python 3",
   "language": "python",
   "name": "python3"
  },
  "language_info": {
   "codemirror_mode": {
    "name": "ipython",
    "version": 3
   },
   "file_extension": ".py",
   "mimetype": "text/x-python",
   "name": "python",
   "nbconvert_exporter": "python",
   "pygments_lexer": "ipython3",
   "version": "3.6.1"
  }
 },
 "nbformat": 4,
 "nbformat_minor": 2
}
